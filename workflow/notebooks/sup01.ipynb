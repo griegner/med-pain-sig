{
 "cells": [
  {
   "cell_type": "code",
   "execution_count": null,
   "metadata": {},
   "outputs": [],
   "source": [
    "import fig02 as src\n",
    "import pandas as pd\n",
    "\n",
    "signature_list = [\"nps\", \"siips\", \"na-gen\", \"na-therm\", \"na-mech\", \"na-sound\", \"na-vis\"]\n",
    "\n",
    "cbf = (\n",
    "    pd.read_csv(\"../../results/cbf-ps-agg.csv\")\n",
    "    .query(\"ses == 'mri1'\")\n",
    "    .pipe(src.drop_outliers, \"cbfQEI\")\n",
    "    .groupby(\"sub\")\n",
    "    .filter(lambda df: df[\"task\"].nunique() == 2)\n",
    "    .pipe(src.scale, signature_list)\n",
    "    .melt(id_vars=[\"sub\", \"task\"], value_vars=signature_list)\n",
    ")\n"
   ]
  },
  {
   "cell_type": "code",
   "execution_count": null,
   "metadata": {},
   "outputs": [],
   "source": [
    "import pingouin as pg\n",
    "\n",
    "(\n",
    "    cbf.groupby(\"variable\")\n",
    "    .apply(lambda df: df.pairwise_tests(dv=\"value\", within=\"task\", subject=\"sub\"))\n",
    "    .assign(fdr=lambda df: pg.multicomp(df[\"p-unc\"].values, alpha=0.05, method=\"fdr\")[0])\n",
    ")\n"
   ]
  },
  {
   "cell_type": "code",
   "execution_count": null,
   "metadata": {},
   "outputs": [],
   "source": [
    "import seaborn as sns\n",
    "\n",
    "cmap = sns.color_palette([\"#313695\", \"#D62F26\"], n_colors=2)\n",
    "ax = sns.pointplot(\n",
    "    data=cbf,\n",
    "    x=\"variable\",\n",
    "    y=\"value\",\n",
    "    hue=\"task\",\n",
    "    errorbar=\"se\",\n",
    "    palette=cmap,\n",
    "    order=signature_list,\n",
    "    join=False,\n",
    ")\n",
    "ax.axhline(0, linestyle=\"--\", lw=0.5, color=\"k\")\n",
    "ax.set_xticklabels(ax.get_xticklabels(), rotation=15)\n",
    "ax.set_ylabel(\"brain pattern response (zscore)\")\n",
    "ax.set_xlabel(\"\")\n",
    "fig = ax.get_figure()\n",
    "fig.savefig(\"../../figures/sup01.svg\")\n"
   ]
  }
 ],
 "metadata": {
  "kernelspec": {
   "display_name": "med-pain-sig",
   "language": "python",
   "name": "python3"
  },
  "language_info": {
   "codemirror_mode": {
    "name": "ipython",
    "version": 3
   },
   "file_extension": ".py",
   "mimetype": "text/x-python",
   "name": "python",
   "nbconvert_exporter": "python",
   "pygments_lexer": "ipython3",
   "version": "3.11.0"
  },
  "orig_nbformat": 4,
  "vscode": {
   "interpreter": {
    "hash": "48cafd37b8b896a418e636e130e4e5eb1761759e51a01570faa68cd2636a147b"
   }
  }
 },
 "nbformat": 4,
 "nbformat_minor": 2
}
