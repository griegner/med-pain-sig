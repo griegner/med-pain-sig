{
    "cells": [
        {
            "cell_type": "code",
            "execution_count": null,
            "metadata": {},
            "outputs": [],
            "source": [
                "import matplotlib.pyplot as plt\n",
                "import templateflow.api as tflow\n",
                "from nilearn import image, plotting\n"
            ]
        },
        {
            "cell_type": "code",
            "execution_count": null,
            "metadata": {},
            "outputs": [],
            "source": [
                "bg_img = str(tflow.get(\"MNI152NLin6Asym\", desc=\"brain\", resolution=1, suffix=\"T1w\"))\n",
                "bg_mask = str(tflow.get(\"MNI152NLin6Asym\", desc=\"brain\", resolution=2, suffix=\"mask\"))\n",
                "\n",
                "nps = image.load_img(\"../../data/pain-sigs/nps.nii.gz\")\n",
                "\n",
                "cbf = image.math_img(\n",
                "    \"img1 * img2\",\n",
                "    img1=image.index_img(\n",
                "        \"../../data/figures/sub-c001_ses-mri2_run-5_space-MNI152NLin6Asym_res-2_desc-scrub_cbf.nii.gz\",\n",
                "        0,\n",
                "    ),\n",
                "    img2=bg_mask,\n",
                ")\n",
                "cbf = image.resample_to_img(cbf, nps, interpolation=\"linear\")\n",
                "\n",
                "bold = image.math_img(\n",
                "    \"img1 * img2\",\n",
                "    img1=\"../../data/bold/sub-c029/sub-c029_task-h1_desc-preproc_pe.nii.gz\",\n",
                "    img2=bg_mask,\n",
                ")\n",
                "bold = image.resample_to_img(bold, nps, interpolation=\"linear\")\n"
            ]
        },
        {
            "cell_type": "code",
            "execution_count": null,
            "metadata": {},
            "outputs": [],
            "source": [
                "def plot_img(img, bg_img=None, vmax=None, alpha=None, cmap=\"RdYlBu_r\"):\n",
                "    fig, ax = plt.subplots(1, 3, gridspec_kw={\"width_ratios\": [1, 1, 0.055]})\n",
                "    fig.tight_layout(pad=1)\n",
                "\n",
                "    kwargs = dict(\n",
                "        display_mode=\"z\",\n",
                "        cut_coords=[0],\n",
                "        black_bg=False,\n",
                "        annotate=False,\n",
                "        colorbar=False,\n",
                "        resampling_interpolation=\"nearest\",\n",
                "        alpha=alpha,\n",
                "        vmax=vmax,\n",
                "        cmap=cmap,\n",
                "    )\n",
                "\n",
                "    wb = plotting.plot_stat_map(img, axes=ax[0], bg_img=bg_img, **kwargs)\n",
                "\n",
                "    img = image.math_img(\"img1 * img2\", img1=img, img2=image.binarize_img(nps))\n",
                "\n",
                "    zoom = plotting.plot_stat_map(img, axes=ax[1], bg_img=None, **kwargs)\n",
                "    zoom.axes[0].ax.set_xlim(23, 61)\n",
                "    zoom.axes[0].ax.set_ylim(-25, 27)\n",
                "\n",
                "    vect = plotting.plot_stat_map(img, axes=ax[2], **kwargs)\n",
                "    vect.axes[0].ax.set_xlim(36, 38)\n",
                "    vect.axes[0].ax.set_ylim(-24, 26)\n",
                "\n",
                "    return fig\n"
            ]
        },
        {
            "cell_type": "code",
            "execution_count": null,
            "metadata": {},
            "outputs": [],
            "source": [
                "fig = plot_img(nps, bg_img=bg_img, vmax=0.015, alpha=1.0)\n",
                "fig.savefig(\"../../figures/fig01-nps.png\", dpi=300)\n"
            ]
        },
        {
            "cell_type": "code",
            "execution_count": null,
            "metadata": {},
            "outputs": [],
            "source": [
                "fig = plot_img(cbf, vmax=100, alpha=0.75, cmap=\"RdBu_r\")\n",
                "fig.savefig(\"../../figures/fig01-cbf.png\", dpi=300)\n"
            ]
        },
        {
            "cell_type": "code",
            "execution_count": null,
            "metadata": {},
            "outputs": [],
            "source": [
                "fig = plot_img(bold, vmax=0.4, alpha=1.0)\n",
                "fig.savefig(\"../../figures/fig01-bold.png\", dpi=300)\n"
            ]
        }
    ],
    "metadata": {
        "kernelspec": {
            "display_name": "Python 3.10.5 ('mps')",
            "language": "python",
            "name": "python3"
        },
        "language_info": {
            "codemirror_mode": {
                "name": "ipython",
                "version": 3
            },
            "file_extension": ".py",
            "mimetype": "text/x-python",
            "name": "python",
            "nbconvert_exporter": "python",
            "pygments_lexer": "ipython3",
            "version": "3.11.0"
        },
        "orig_nbformat": 4,
        "vscode": {
            "interpreter": {
                "hash": "8946db138de93ee31241c3aaa2994c456615954571b0ee2473b47f3571afa204"
            }
        }
    },
    "nbformat": 4,
    "nbformat_minor": 2
}
