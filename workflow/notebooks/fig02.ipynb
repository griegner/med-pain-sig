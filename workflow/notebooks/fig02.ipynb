{
 "cells": [
  {
   "cell_type": "code",
   "execution_count": null,
   "metadata": {},
   "outputs": [],
   "source": [
    "import fig02 as src\n",
    "import pandas as pd\n",
    "import seaborn as sns\n",
    "from IPython.display import display\n",
    "\n",
    "import warnings\n",
    "\n",
    "warnings.filterwarnings(\"ignore\")\n",
    "\n",
    "signature_list = [\"nps\", \"siips\", \"na-gen\", \"na-therm\", \"na-mech\", \"na-sound\", \"na-vis\"]\n",
    "\n",
    "cols = [\"sub\", \"task\", \"group\", \"int\", \"unp\"]\n",
    "vas = (\n",
    "    pd.concat(\n",
    "        [\n",
    "            pd.read_csv(\"../../results/cbf-ps-agg.csv\").query(\"task.str.endswith('49C')\")[cols],\n",
    "            pd.read_csv(\"../../results/bold-ps-agg.csv\")[cols],\n",
    "        ]\n",
    "    )\n",
    "    .groupby(\"sub\")\n",
    "    .filter(lambda df: df[\"task\"].nunique() == 3)  # filter missing data\n",
    "    .melt(id_vars=[\"sub\", \"task\", \"group\"], value_vars=[\"int\", \"unp\"])\n",
    ")\n",
    "\n",
    "bold = (\n",
    "    pd.read_csv(\"../../results/bold-ps-agg.csv\")\n",
    "    .query(\"FD < 0.5\")  # also drops NaN\n",
    "    .pipe(src.scale, signature_list)  # zscore\n",
    ")\n",
    "\n",
    "cbf = (\n",
    "    pd.read_csv(\"../../results/cbf-ps-agg.csv\")\n",
    "    .query(\"task.str.endswith('49C') and group != 's'\")  # select 49C runs\n",
    "    .pipe(src.drop_outliers, \"cbfQEI\")  # -1.5 * IQR\n",
    "    .pipe(src.scale, signature_list)  # zscore\n",
    ")\n",
    "\n",
    "brain_pattern_responses = (\n",
    "    pd.concat([cbf.query(\"ses == 'mri2'\"), bold])\n",
    "    .groupby(\"sub\", as_index=False, group_keys=True)\n",
    "    .apply(src.get_residual)\n",
    "    .melt(\n",
    "        id_vars=[\"sub\", \"task\", \"group\", \"int\", \"int_residual\", \"unp\"],\n",
    "        value_vars=signature_list,\n",
    "    )\n",
    ")\n",
    "\n",
    "\n",
    "brain_pattern_responses.groupby(\"group\")[\"sub\"].nunique()\n"
   ]
  },
  {
   "attachments": {},
   "cell_type": "markdown",
   "metadata": {},
   "source": [
    "group x manipulation plots"
   ]
  },
  {
   "cell_type": "code",
   "execution_count": null,
   "metadata": {},
   "outputs": [],
   "source": [
    "cmap = sns.color_palette([\"#E9E9E9\", \"#C9C9C9\"], n_colors=2)\n",
    "\n",
    "vas_plot = src.plot_group_by_manipulation(\n",
    "    vas.query(\"group == 'c' or group == 'm'\"),\n",
    "    col_order=[\"int\", \"unp\"],\n",
    "    order=[\"baseline49C\", \"preManip49C\", \"postManip49C\"],\n",
    "    cmap=cmap,\n",
    ")\n",
    "vas_plot.set_ylabels(\"visual analog scale (0-10)\")\n",
    "vas_plot.savefig(\"../../figures/fig02-pain-ratings.png\", dpi=300)\n",
    "\n",
    "brain_pattern_responses_plot = src.plot_group_by_manipulation(\n",
    "    brain_pattern_responses.query(\"group == 'c' or group == 'm'\"),\n",
    "    col_order=signature_list,\n",
    "    cmap=cmap,\n",
    ")\n",
    "brain_pattern_responses_plot.set_ylabels(\"brain pattern reponses (zscore)\")\n",
    "brain_pattern_responses_plot.savefig(\"../../figures/fig02-brain-pattern-responses.png\", dpi=300)\n",
    "\n",
    "mm_vs_placebo_plot = src.plot_group_by_manipulation(\n",
    "    brain_pattern_responses.query(\n",
    "        \"sub.str.startswith('cbf') and (variable == 'nps' or variable == 'siips') and group != 'c'\"\n",
    "    ),\n",
    "    col_order=[\"nps\", \"siips\"],\n",
    "    cmap=cmap,\n",
    ")\n",
    "mm_vs_placebo_plot.set_ylabels(\"brain pattern reponses (AU)\")\n",
    "mm_vs_placebo_plot.savefig(\"../../figures/fig02-mm-vs-placebo.png\", dpi=300)\n"
   ]
  },
  {
   "attachments": {},
   "cell_type": "markdown",
   "metadata": {},
   "source": [
    "pain ratings vs brain pattern response"
   ]
  },
  {
   "cell_type": "code",
   "execution_count": null,
   "metadata": {},
   "outputs": [],
   "source": [
    "corrwith_pain_m = (\n",
    "    brain_pattern_responses.query(\"group == 'm'\")\n",
    "    .groupby(\"sub\")\n",
    "    .filter(lambda df: df[\"task\"].nunique() == 2)  # filter missing data\n",
    "    .groupby([\"sub\", \"variable\"], as_index=False)\n",
    "    .apply(src.get_corrwith_pain)\n",
    ")\n",
    "\n",
    "corrwith_pain_c = (\n",
    "    brain_pattern_responses.query(\"group == 'c'\")\n",
    "    .groupby(\"sub\")\n",
    "    .filter(lambda df: df[\"task\"].nunique() == 2)  # filter missing data\n",
    "    .groupby([\"sub\", \"variable\"], as_index=False)\n",
    "    .apply(src.get_corrwith_pain)\n",
    ")\n",
    "\n",
    "m = src.plot_correlations(corrwith_pain_m, order=signature_list)\n",
    "m.savefig(\"../../figures/fig02-corrwith-pain-m.png\", dpi=300)\n",
    "\n",
    "c = src.plot_correlations(corrwith_pain_c, order=signature_list)\n",
    "c.savefig(\"../../figures/fig02-corrwith-pain-c.png\", dpi=300)\n"
   ]
  },
  {
   "attachments": {},
   "cell_type": "markdown",
   "metadata": {},
   "source": [
    "a. mixed ANOVA: VAS pain ratings"
   ]
  },
  {
   "cell_type": "code",
   "execution_count": null,
   "metadata": {},
   "outputs": [],
   "source": [
    "mixed_anova_df, pairwise_ttests_df = src.mixed_anova(\n",
    "    vas.query(\"task != 'baseline49C' and (group == 'm' or group == 'c')\"),\n",
    ")\n",
    "display(\n",
    "    mixed_anova_df.style.background_gradient(cmap=\"Blues\", subset=[\"np2\"]),\n",
    "    pairwise_ttests_df,\n",
    ")\n"
   ]
  },
  {
   "attachments": {},
   "cell_type": "markdown",
   "metadata": {},
   "source": [
    "b. one sample ttest: correlation (r) with pain"
   ]
  },
  {
   "cell_type": "code",
   "execution_count": null,
   "metadata": {},
   "outputs": [],
   "source": [
    "display(\n",
    "    src.one_sample_ttest(corrwith_pain_m),\n",
    "    src.one_sample_ttest(corrwith_pain_c),\n",
    ")\n"
   ]
  },
  {
   "attachments": {},
   "cell_type": "markdown",
   "metadata": {},
   "source": [
    "c. mixed ANOVA: brain pattern responses"
   ]
  },
  {
   "cell_type": "code",
   "execution_count": null,
   "metadata": {},
   "outputs": [],
   "source": [
    "mixed_anova_df, pairwise_ttests_df = src.mixed_anova(\n",
    "    brain_pattern_responses.query(\"group == 'm' or group == 'c'\")\n",
    ")\n",
    "display(\n",
    "    mixed_anova_df.style.background_gradient(cmap=\"Blues\", subset=[\"np2\"]),\n",
    "    pairwise_ttests_df,\n",
    ")\n"
   ]
  },
  {
   "attachments": {},
   "cell_type": "markdown",
   "metadata": {},
   "source": [
    "d. mixed ANOVA: mindfulness vs placebo"
   ]
  },
  {
   "cell_type": "code",
   "execution_count": null,
   "metadata": {},
   "outputs": [],
   "source": [
    "mixed_anova_df, pairwise_ttests_df = src.mixed_anova(\n",
    "    brain_pattern_responses.query(\n",
    "        \"sub.str.startswith('cbf') and (variable == 'nps' or variable == 'siips') and group != 'c'\"\n",
    "    )\n",
    ")\n",
    "display(\n",
    "    mixed_anova_df.style.background_gradient(cmap=\"Blues\", subset=[\"np2\"]),\n",
    "    pairwise_ttests_df,\n",
    ")\n"
   ]
  },
  {
   "cell_type": "code",
   "execution_count": null,
   "metadata": {},
   "outputs": [],
   "source": [
    "brain_pattern_responses\n"
   ]
  },
  {
   "cell_type": "code",
   "execution_count": null,
   "metadata": {},
   "outputs": [],
   "source": []
  }
 ],
 "metadata": {
  "kernelspec": {
   "display_name": "med-pain-sig",
   "language": "python",
   "name": "python3"
  },
  "language_info": {
   "codemirror_mode": {
    "name": "ipython",
    "version": 3
   },
   "file_extension": ".py",
   "mimetype": "text/x-python",
   "name": "python",
   "nbconvert_exporter": "python",
   "pygments_lexer": "ipython3",
   "version": "3.11.0"
  },
  "orig_nbformat": 4,
  "vscode": {
   "interpreter": {
    "hash": "48cafd37b8b896a418e636e130e4e5eb1761759e51a01570faa68cd2636a147b"
   }
  }
 },
 "nbformat": 4,
 "nbformat_minor": 2
}
