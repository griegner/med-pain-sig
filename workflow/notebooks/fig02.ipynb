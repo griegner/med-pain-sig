{
 "cells": [
  {
   "cell_type": "code",
   "execution_count": null,
   "metadata": {},
   "outputs": [],
   "source": [
    "%load_ext blackcellmagic"
   ]
  },
  {
   "cell_type": "code",
   "execution_count": null,
   "metadata": {},
   "outputs": [],
   "source": [
    "import pandas as pd\n",
    "from IPython.display import display\n",
    "\n",
    "import fig02 as src\n",
    "\n",
    "signature_list = [\"nps\", \"siips\", \"na-gen\", \"na-therm\", \"na-mech\", \"na-sound\", \"na-vis\"]\n",
    "\n",
    "cbf = (\n",
    "    pd.read_csv(\"../../results/cbf-ps-agg.csv\")\n",
    "    .query(\n",
    "        \"task.str.endswith('49C') and FD < 1.0 and Gm_Wm_CBF_ratio > 1.0\"\n",
    "    )  # 2022 ASLPrep paper\n",
    "    .pipe(src.drop_outliers, \"cbfQEI\")\n",
    "    .pipe(src.scale, signature_list)\n",
    "    .assign(group=lambda x: x[\"sub\"].str[0], sub=lambda x: \"cbf-\" + x[\"sub\"])\n",
    "    .drop(columns=[\"run\", \"cbfQEI\", \"Gm_Wm_CBF_ratio\"])\n",
    ")\n",
    "\n",
    "bold = (\n",
    "    pd.read_csv(\"../../results/bold-ps-agg.csv\")\n",
    "    .query(\"FD < 0.5\")  # drops NaN\n",
    "    .pipe(src.scale, signature_list)\n",
    "    .assign(group=lambda x: x[\"sub\"].str[0], sub=lambda x: \"bold-\" + x[\"sub\"])\n",
    ")\n",
    "\n",
    "col_filter = [\"sub\", \"task\", \"int\", \"unp\"]\n",
    "pain_ratings = (\n",
    "    pd.concat(\n",
    "        [pd.read_csv(\"../../results/bold-ps-agg.csv\")[col_filter], cbf[col_filter]]\n",
    "    )\n",
    "    .assign(group=lambda x: x[\"sub\"].str[0])\n",
    "    .melt(id_vars=[\"sub\", \"task\", \"group\"], value_vars=[\"int\", \"unp\"])\n",
    ")\n",
    "\n",
    "brain_pattern_responses = (\n",
    "    pd.concat([cbf.query(\"ses == 'mri2'\"), bold])\n",
    "    .assign(int_residual=src.get_residual)\n",
    "    .melt(\n",
    "        id_vars=[\"sub\", \"task\", \"group\", \"int\", \"int_residual\", \"unp\"],\n",
    "        value_vars=signature_list,\n",
    "    )\n",
    ")\n"
   ]
  },
  {
   "cell_type": "markdown",
   "metadata": {},
   "source": [
    "group x manipulation plots"
   ]
  },
  {
   "cell_type": "code",
   "execution_count": null,
   "metadata": {},
   "outputs": [],
   "source": [
    "pain_ratings_plot = src.plot_group_by_manipulation(\n",
    "    pain_ratings.query(\"group == 'c' or group == 'm'\"),\n",
    "    col_order=[\"int\", \"unp\"],\n",
    "    order=[\"baseline49C\", \"preManip49C\", \"postManip49C\"],\n",
    "    join=True,\n",
    ")\n",
    "pain_ratings_plot.set_ylabels(\"visual analog scale (0-10)\")\n",
    "pain_ratings_plot.savefig(\"../../figures/fig02-pain-ratings.png\", dpi=300)\n",
    "\n",
    "brain_pattern_responses_plot = src.plot_group_by_manipulation(\n",
    "    brain_pattern_responses.query(\"group == 'c' or group == 'm'\"),\n",
    "    col_order=signature_list,\n",
    ")\n",
    "brain_pattern_responses_plot.set_ylabels(\"brain pattern reponses (AU)\")\n",
    "brain_pattern_responses_plot.savefig(\n",
    "    \"../../figures/fig02-brain-pattern-responses.png\", dpi=300\n",
    ")\n",
    "\n",
    "mm_vs_placebo_plot = src.plot_group_by_manipulation(\n",
    "    brain_pattern_responses.query(\n",
    "        \"sub.str.startswith('cbf') and (variable == 'nps' or variable == 'siips') and (group == 'm' or group == 'l')\"\n",
    "    ),\n",
    "    col_order=[\"nps\", \"siips\"],\n",
    ")\n",
    "mm_vs_placebo_plot.set_ylabels(\"brain pattern reponses (AU)\")\n",
    "mm_vs_placebo_plot.savefig(\"../../figures/fig02-mm-vs-placebo.png\", dpi=300)"
   ]
  },
  {
   "cell_type": "markdown",
   "metadata": {},
   "source": [
    "pain ratings vs brain pattern response"
   ]
  },
  {
   "cell_type": "code",
   "execution_count": null,
   "metadata": {},
   "outputs": [],
   "source": [
    "corrwith_pain_all = brain_pattern_responses.groupby(\n",
    "    [\"sub\", \"variable\"], as_index=False\n",
    ").apply(src.get_corrwith_pain)\n",
    "\n",
    "\n",
    "corrwith_pain_mm = (\n",
    "    brain_pattern_responses.query(\"group == 'm'\")\n",
    "    .groupby([\"sub\", \"variable\"], as_index=False)\n",
    "    .apply(src.get_corrwith_pain)\n",
    ")\n",
    "\n",
    "all = src.plot_correlations(corrwith_pain_all, order=signature_list)\n",
    "all.savefig(\"../../figures/fig02-corrwith-pain-all.png\", dpi=300)\n",
    "mm = src.plot_correlations(corrwith_pain_mm, order=signature_list)\n",
    "mm.savefig(\"../../figures/fig02-corrwith-pain-mm.png\", dpi=300)"
   ]
  },
  {
   "cell_type": "markdown",
   "metadata": {},
   "source": [
    "mixed ANOVA: pain ratings"
   ]
  },
  {
   "cell_type": "code",
   "execution_count": null,
   "metadata": {},
   "outputs": [],
   "source": [
    "mixed_anova_df, pairwise_ttests_df = src.mixed_anova(\n",
    "    pain_ratings.query(\"group == 'm' or group == 'c'\"),\n",
    ")\n",
    "display(\n",
    "    mixed_anova_df.style.background_gradient(cmap=\"Blues\", subset=[\"np2\"]),\n",
    "    pairwise_ttests_df,\n",
    ")"
   ]
  },
  {
   "cell_type": "markdown",
   "metadata": {},
   "source": [
    "mixed ANOVA: brain pattern responses"
   ]
  },
  {
   "cell_type": "code",
   "execution_count": null,
   "metadata": {},
   "outputs": [],
   "source": [
    "mixed_anova_df, pairwise_ttests_df = src.mixed_anova(\n",
    "    brain_pattern_responses.query(\"group == 'm' or group == 'c'\")\n",
    ")\n",
    "display(\n",
    "    mixed_anova_df.style.background_gradient(cmap=\"Blues\", subset=[\"np2\"]),\n",
    "    pairwise_ttests_df,\n",
    ")"
   ]
  },
  {
   "cell_type": "markdown",
   "metadata": {},
   "source": [
    "mixed ANOVA: mindfulness vs placebo"
   ]
  },
  {
   "cell_type": "code",
   "execution_count": null,
   "metadata": {},
   "outputs": [],
   "source": [
    "mixed_anova_df, pairwise_ttests_df = src.mixed_anova(\n",
    "    brain_pattern_responses.query(\n",
    "        \"sub.str.startswith('cbf') and (variable == 'nps' or variable == 'siips') and (group == 'm' or group == 'l')\"\n",
    "    )\n",
    ")\n",
    "display(\n",
    "    mixed_anova_df.style.background_gradient(cmap=\"Blues\", subset=[\"np2\"]),\n",
    "    pairwise_ttests_df,\n",
    ")"
   ]
  }
 ],
 "metadata": {
  "interpreter": {
   "hash": "8946db138de93ee31241c3aaa2994c456615954571b0ee2473b47f3571afa204"
  },
  "kernelspec": {
   "display_name": "Python 3.10.2 ('mps')",
   "language": "python",
   "name": "python3"
  },
  "language_info": {
   "codemirror_mode": {
    "name": "ipython",
    "version": 3
   },
   "file_extension": ".py",
   "mimetype": "text/x-python",
   "name": "python",
   "nbconvert_exporter": "python",
   "pygments_lexer": "ipython3",
   "version": "3.10.5"
  },
  "orig_nbformat": 4
 },
 "nbformat": 4,
 "nbformat_minor": 2
}
