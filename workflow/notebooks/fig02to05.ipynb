{
    "cells": [
        {
            "cell_type": "code",
            "execution_count": null,
            "metadata": {},
            "outputs": [],
            "source": [
                "import fig02to05 as src\n",
                "import pandas as pd\n",
                "\n",
                "pd.set_option(\"display.float_format\", \"{:.4f}\".format)\n",
                "\n",
                "\n",
                "id_cols = [\"sub\", \"task\", \"group\", \"study\"]\n",
                "vas_cols = [\"int\", \"unp\"]\n",
                "psr_cols = [\"nps\", \"siips\", \"na-gen\", \"na-therm\", \"na-mech\", \"na-sound\", \"na-vis\"]\n",
                "\n",
                "# study1: blood oxygen level dependent imaging\n",
                "bold = (\n",
                "    pd.read_csv(\"../../results/bold-ps-agg.csv\")\n",
                "    .assign(study=\"bold\")\n",
                "    .pipe(src.scale, psr_cols)  # zscore\n",
                ")\n",
                "\n",
                "# study2: cerebral blood flow imaging\n",
                "cbf = (\n",
                "    pd.read_csv(\"../../results/cbf-ps-agg.csv\")\n",
                "    .assign(study=\"cbf\")\n",
                "    .query(\"task.str.endswith('49C') and group != 's'\")  # select 49C runs, c-m-l groups\n",
                "    .pipe(src.drop_outliers, \"cbfQEI\")  # -1.5 * IQR on CBF quality index\n",
                "    .pipe(src.scale, psr_cols)  # zscore\n",
                ")\n",
                "\n",
                "# study1 + study2: pain signature responses\n",
                "psr = (\n",
                "    pd.concat([bold[id_cols + vas_cols + psr_cols], cbf[id_cols + vas_cols + psr_cols]])\n",
                "    .groupby(\"sub\")  # filter missing data\n",
                "    .filter(lambda x: {\"preManip49C\", \"postManip49C\"}.issubset(x[\"task\"]))\n",
                ")\n",
                "\n",
                "psr.groupby([\"group\", \"study\"])[\"sub\"].nunique()\n"
            ]
        },
        {
            "cell_type": "markdown",
            "metadata": {},
            "source": [
                "**Fig02: pain ratings**"
            ]
        },
        {
            "cell_type": "code",
            "execution_count": null,
            "metadata": {},
            "outputs": [],
            "source": [
                "tasks, groups = [\"preManip49C\", \"postManip49C\", \"baseline49C\"], [\"m\", \"c\"]\n",
                "\n",
                "fig02 = (\n",
                "    psr.query(\"task.isin(@tasks) and group.isin(@groups)\")\n",
                "    .assign(\n",
                "        task=lambda x: pd.Categorical(x[\"task\"], tasks, ordered=True),\n",
                "        group=lambda x: pd.Categorical(x[\"group\"], groups, ordered=True),\n",
                "    )\n",
                "    .melt(id_vars=id_cols, value_vars=vas_cols)\n",
                ")\n",
                "\n",
                "src.plot_group_by_manipulation(\n",
                "    fig02,\n",
                "    var_order=vas_cols,\n",
                "    task_order=[\"baseline49C\", \"preManip49C\", \"postManip49C\"],\n",
                "    group_order=[\"m\", \"c\"],\n",
                ")\n",
                "\n",
                "(\n",
                "    fig02.groupby(\"variable\")\n",
                "    .apply(src.fit_mixedlm, formula=\"value ~ group * task + study\")\n",
                "    .groupby(level=1)\n",
                "    .apply(src.multicomp_fdr)\n",
                "    .style.applymap(lambda fdr: \"background-color: lightblue\" if fdr < 0.05 else \"\", subset=\"qFDR\")\n",
                ")\n"
            ]
        },
        {
            "cell_type": "markdown",
            "metadata": {},
            "source": [
                "**Fig03: pain signature responses**"
            ]
        },
        {
            "cell_type": "code",
            "execution_count": null,
            "metadata": {},
            "outputs": [],
            "source": [
                "tasks, groups = [\"preManip49C\", \"postManip49C\"], [\"m\", \"c\"]\n",
                "\n",
                "fig03 = (\n",
                "    psr.query(\"task.isin(@tasks) and group.isin(@groups)\")\n",
                "    .assign(\n",
                "        task=lambda x: pd.Categorical(x[\"task\"], tasks, ordered=True),\n",
                "        group=lambda x: pd.Categorical(x[\"group\"], groups, ordered=True),\n",
                "    )\n",
                "    .melt(id_vars=id_cols, value_vars=psr_cols)\n",
                ")\n",
                "\n",
                "src.plot_group_by_manipulation(\n",
                "    fig03,\n",
                "    var_order=None,\n",
                "    task_order=[\"preManip49C\", \"postManip49C\"],\n",
                "    group_order=[\"m\", \"c\"],\n",
                ")\n",
                "\n",
                "(\n",
                "    fig03.groupby(\"variable\")\n",
                "    .apply(src.fit_mixedlm, formula=\"value ~ group * task + study\")\n",
                "    .groupby(level=1)\n",
                "    .apply(src.multicomp_fdr)\n",
                "    .style.applymap(lambda fdr: \"background-color: lightblue\" if fdr < 0.05 else \"\", subset=\"qFDR\")\n",
                ")\n"
            ]
        },
        {
            "cell_type": "markdown",
            "metadata": {},
            "source": [
                "**Fig05: mindfulness meditation vs placebo cream**"
            ]
        },
        {
            "cell_type": "code",
            "execution_count": null,
            "metadata": {},
            "outputs": [],
            "source": [
                "tasks, groups = [\"preManip49C\", \"postManip49C\", \"baseline49C\"], [\"l\", \"m\"]\n",
                "\n",
                "fig05a = (\n",
                "    psr.query(\"task.isin(@tasks) and group.isin(@groups) and study == 'cbf'\")\n",
                "    .assign(\n",
                "        task=lambda x: pd.Categorical(x[\"task\"], tasks, ordered=True),\n",
                "        group=lambda x: pd.Categorical(x[\"group\"], groups, ordered=True),\n",
                "    )\n",
                "    .melt(id_vars=id_cols, value_vars=vas_cols)\n",
                ")\n",
                "\n",
                "src.plot_group_by_manipulation(\n",
                "    fig05a,\n",
                "    var_order=None,\n",
                "    task_order=[\"baseline49C\", \"preManip49C\", \"postManip49C\"],\n",
                "    group_order=[\"m\", \"l\"],\n",
                ")\n",
                "\n",
                "(\n",
                "    fig05a.groupby(\"variable\")\n",
                "    .apply(src.fit_mixedlm, formula=\"value ~ group * task\")\n",
                "    .groupby(level=1)\n",
                "    .apply(src.multicomp_fdr)\n",
                "    .style.applymap(lambda fdr: \"background-color: lightblue\" if fdr < 0.05 else \"\", subset=\"qFDR\")\n",
                ")\n"
            ]
        },
        {
            "cell_type": "code",
            "execution_count": null,
            "metadata": {},
            "outputs": [],
            "source": [
                "tasks, groups = [\"preManip49C\", \"postManip49C\"], [\"l\", \"m\"]\n",
                "\n",
                "fig05b = (\n",
                "    psr.query(\"task.isin(@tasks) and group.isin(@groups) and study == 'cbf'\")\n",
                "    .assign(\n",
                "        task=lambda x: pd.Categorical(x[\"task\"], tasks, ordered=True),\n",
                "        group=lambda x: pd.Categorical(x[\"group\"], groups, ordered=True),\n",
                "    )\n",
                "    .melt(id_vars=id_cols, value_vars=[\"nps\", \"siips\"])\n",
                ")\n",
                "\n",
                "src.plot_group_by_manipulation(\n",
                "    fig05b,\n",
                "    var_order=None,\n",
                "    task_order=[\"preManip49C\", \"postManip49C\"],\n",
                "    group_order=[\"m\", \"l\"],\n",
                ")\n",
                "\n",
                "(\n",
                "    fig05b.groupby(\"variable\")\n",
                "    .apply(src.fit_mixedlm, formula=\"value ~ group * task\")\n",
                "    .groupby(level=1)\n",
                "    .apply(src.multicomp_fdr)\n",
                "    .style.applymap(lambda fdr: \"background-color: lightblue\" if fdr < 0.05 else \"\", subset=\"qFDR\")\n",
                ")\n"
            ]
        },
        {
            "cell_type": "code",
            "execution_count": null,
            "metadata": {},
            "outputs": [],
            "source": []
        }
    ],
    "metadata": {
        "kernelspec": {
            "display_name": "med-pain-sig",
            "language": "python",
            "name": "python3"
        },
        "language_info": {
            "codemirror_mode": {
                "name": "ipython",
                "version": 3
            },
            "file_extension": ".py",
            "mimetype": "text/x-python",
            "name": "python",
            "nbconvert_exporter": "python",
            "pygments_lexer": "ipython3",
            "version": "3.11.4"
        },
        "orig_nbformat": 4,
        "vscode": {
            "interpreter": {
                "hash": "48cafd37b8b896a418e636e130e4e5eb1761759e51a01570faa68cd2636a147b"
            }
        }
    },
    "nbformat": 4,
    "nbformat_minor": 2
}
